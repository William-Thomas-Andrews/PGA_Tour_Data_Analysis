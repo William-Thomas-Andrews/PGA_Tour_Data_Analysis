{
 "cells": [
  {
   "cell_type": "code",
   "execution_count": null,
   "id": "c25de2de-7d6f-4576-a989-695910f23429",
   "metadata": {},
   "outputs": [],
   "source": [
    "# Now just make this into like an essay format, putting the correlation matrix before the graphs and explaining\n",
    "# the significance. Make sure to include all strokes gained stuff and compare in some sort of visualization or\n",
    "# shortened correlation matrix"
   ]
  },
  {
   "cell_type": "code",
   "execution_count": null,
   "id": "7f49a53d-0bdd-4a68-a677-225efae82bf8",
   "metadata": {},
   "outputs": [],
   "source": [
    "from sklearn.linear_model import LinearRegression as LR\n",
    "from sklearn.model_selection import train_test_split as tts\n",
    "from sklearn import linear_model\n",
    "from sklearn.linear_model import Ridge\n",
    "from sklearn.preprocessing import StandardScaler as SS\n",
    "import pandas as pd\n",
    "import numpy as np\n",
    "import matplotlib.pyplot as plt\n",
    "from matplotlib import style\n",
    "import statistics\n",
    "from statistics import mean\n",
    "import seaborn as sns"
   ]
  },
  {
   "cell_type": "code",
   "execution_count": null,
   "id": "8dbc4fbe-5933-44b9-a2d6-6be0308e0b28",
   "metadata": {},
   "outputs": [],
   "source": [
    "# Reading and viewing the data"
   ]
  },
  {
   "cell_type": "code",
   "execution_count": 3,
   "id": "0f149427-f3e2-4481-9c3d-dbc234d42fb6",
   "metadata": {},
   "outputs": [],
   "source": [
    "golf = pd.read_csv('pgaTourData.csv')"
   ]
  },
  {
   "cell_type": "code",
   "execution_count": 4,
   "id": "471ea51d-857f-4226-96c6-974165e2b3ae",
   "metadata": {},
   "outputs": [
    {
     "data": {
      "text/html": [
       "<div>\n",
       "<style scoped>\n",
       "    .dataframe tbody tr th:only-of-type {\n",
       "        vertical-align: middle;\n",
       "    }\n",
       "\n",
       "    .dataframe tbody tr th {\n",
       "        vertical-align: top;\n",
       "    }\n",
       "\n",
       "    .dataframe thead th {\n",
       "        text-align: right;\n",
       "    }\n",
       "</style>\n",
       "<table border=\"1\" class=\"dataframe\">\n",
       "  <thead>\n",
       "    <tr style=\"text-align: right;\">\n",
       "      <th></th>\n",
       "      <th>Player Name</th>\n",
       "      <th>Rounds</th>\n",
       "      <th>Fairway Percentage</th>\n",
       "      <th>Year</th>\n",
       "      <th>Avg Distance</th>\n",
       "      <th>gir</th>\n",
       "      <th>Average Putts</th>\n",
       "      <th>Average Scrambling</th>\n",
       "      <th>Average Score</th>\n",
       "      <th>Points</th>\n",
       "      <th>Wins</th>\n",
       "      <th>Top 10</th>\n",
       "      <th>Average SG Putts</th>\n",
       "      <th>Average SG Total</th>\n",
       "      <th>SG:OTT</th>\n",
       "      <th>SG:APR</th>\n",
       "      <th>SG:ARG</th>\n",
       "      <th>Money</th>\n",
       "    </tr>\n",
       "  </thead>\n",
       "  <tbody>\n",
       "    <tr>\n",
       "      <th>0</th>\n",
       "      <td>Henrik Stenson</td>\n",
       "      <td>60.0</td>\n",
       "      <td>75.19</td>\n",
       "      <td>2018</td>\n",
       "      <td>291.5</td>\n",
       "      <td>73.51</td>\n",
       "      <td>29.93</td>\n",
       "      <td>60.67</td>\n",
       "      <td>69.617</td>\n",
       "      <td>868</td>\n",
       "      <td>NaN</td>\n",
       "      <td>5.0</td>\n",
       "      <td>-0.207</td>\n",
       "      <td>1.153</td>\n",
       "      <td>0.427</td>\n",
       "      <td>0.960</td>\n",
       "      <td>-0.027</td>\n",
       "      <td>$2,680,487</td>\n",
       "    </tr>\n",
       "    <tr>\n",
       "      <th>1</th>\n",
       "      <td>Ryan Armour</td>\n",
       "      <td>109.0</td>\n",
       "      <td>73.58</td>\n",
       "      <td>2018</td>\n",
       "      <td>283.5</td>\n",
       "      <td>68.22</td>\n",
       "      <td>29.31</td>\n",
       "      <td>60.13</td>\n",
       "      <td>70.758</td>\n",
       "      <td>1,006</td>\n",
       "      <td>1.0</td>\n",
       "      <td>3.0</td>\n",
       "      <td>-0.058</td>\n",
       "      <td>0.337</td>\n",
       "      <td>-0.012</td>\n",
       "      <td>0.213</td>\n",
       "      <td>0.194</td>\n",
       "      <td>$2,485,203</td>\n",
       "    </tr>\n",
       "    <tr>\n",
       "      <th>2</th>\n",
       "      <td>Chez Reavie</td>\n",
       "      <td>93.0</td>\n",
       "      <td>72.24</td>\n",
       "      <td>2018</td>\n",
       "      <td>286.5</td>\n",
       "      <td>68.67</td>\n",
       "      <td>29.12</td>\n",
       "      <td>62.27</td>\n",
       "      <td>70.432</td>\n",
       "      <td>1,020</td>\n",
       "      <td>NaN</td>\n",
       "      <td>3.0</td>\n",
       "      <td>0.192</td>\n",
       "      <td>0.674</td>\n",
       "      <td>0.183</td>\n",
       "      <td>0.437</td>\n",
       "      <td>-0.137</td>\n",
       "      <td>$2,700,018</td>\n",
       "    </tr>\n",
       "    <tr>\n",
       "      <th>3</th>\n",
       "      <td>Ryan Moore</td>\n",
       "      <td>78.0</td>\n",
       "      <td>71.94</td>\n",
       "      <td>2018</td>\n",
       "      <td>289.2</td>\n",
       "      <td>68.80</td>\n",
       "      <td>29.17</td>\n",
       "      <td>64.16</td>\n",
       "      <td>70.015</td>\n",
       "      <td>795</td>\n",
       "      <td>NaN</td>\n",
       "      <td>5.0</td>\n",
       "      <td>-0.271</td>\n",
       "      <td>0.941</td>\n",
       "      <td>0.406</td>\n",
       "      <td>0.532</td>\n",
       "      <td>0.273</td>\n",
       "      <td>$1,986,608</td>\n",
       "    </tr>\n",
       "    <tr>\n",
       "      <th>4</th>\n",
       "      <td>Brian Stuard</td>\n",
       "      <td>103.0</td>\n",
       "      <td>71.44</td>\n",
       "      <td>2018</td>\n",
       "      <td>278.9</td>\n",
       "      <td>67.12</td>\n",
       "      <td>29.11</td>\n",
       "      <td>59.23</td>\n",
       "      <td>71.038</td>\n",
       "      <td>421</td>\n",
       "      <td>NaN</td>\n",
       "      <td>3.0</td>\n",
       "      <td>0.164</td>\n",
       "      <td>0.062</td>\n",
       "      <td>-0.227</td>\n",
       "      <td>0.099</td>\n",
       "      <td>0.026</td>\n",
       "      <td>$1,089,763</td>\n",
       "    </tr>\n",
       "  </tbody>\n",
       "</table>\n",
       "</div>"
      ],
      "text/plain": [
       "      Player Name  Rounds  Fairway Percentage  Year  Avg Distance    gir  \\\n",
       "0  Henrik Stenson    60.0               75.19  2018         291.5  73.51   \n",
       "1     Ryan Armour   109.0               73.58  2018         283.5  68.22   \n",
       "2     Chez Reavie    93.0               72.24  2018         286.5  68.67   \n",
       "3      Ryan Moore    78.0               71.94  2018         289.2  68.80   \n",
       "4    Brian Stuard   103.0               71.44  2018         278.9  67.12   \n",
       "\n",
       "   Average Putts  Average Scrambling  Average Score Points  Wins  Top 10  \\\n",
       "0          29.93               60.67         69.617    868   NaN     5.0   \n",
       "1          29.31               60.13         70.758  1,006   1.0     3.0   \n",
       "2          29.12               62.27         70.432  1,020   NaN     3.0   \n",
       "3          29.17               64.16         70.015    795   NaN     5.0   \n",
       "4          29.11               59.23         71.038    421   NaN     3.0   \n",
       "\n",
       "   Average SG Putts  Average SG Total  SG:OTT  SG:APR  SG:ARG       Money  \n",
       "0            -0.207             1.153   0.427   0.960  -0.027  $2,680,487  \n",
       "1            -0.058             0.337  -0.012   0.213   0.194  $2,485,203  \n",
       "2             0.192             0.674   0.183   0.437  -0.137  $2,700,018  \n",
       "3            -0.271             0.941   0.406   0.532   0.273  $1,986,608  \n",
       "4             0.164             0.062  -0.227   0.099   0.026  $1,089,763  "
      ]
     },
     "execution_count": 4,
     "metadata": {},
     "output_type": "execute_result"
    }
   ],
   "source": [
    "golf.head()"
   ]
  },
  {
   "cell_type": "code",
   "execution_count": 5,
   "id": "37887082-2892-461e-95af-85b66a3be45a",
   "metadata": {},
   "outputs": [],
   "source": [
    "# Cleaning the data"
   ]
  },
  {
   "cell_type": "code",
   "execution_count": 6,
   "id": "d487d81f-2367-4171-8eed-b148f2a62751",
   "metadata": {},
   "outputs": [],
   "source": [
    "golf['Money'] = golf['Money'].str.replace(',','').str.replace('$', '')"
   ]
  },
  {
   "cell_type": "code",
   "execution_count": 7,
   "id": "9393f995-4e7f-4ee0-b6a5-747b38398702",
   "metadata": {},
   "outputs": [],
   "source": [
    "golf['Points'] = golf['Points'].str.replace(',','')"
   ]
  },
  {
   "cell_type": "code",
   "execution_count": 8,
   "id": "51b87d07-8799-46da-b8f6-7e65023114d9",
   "metadata": {},
   "outputs": [
    {
     "name": "stderr",
     "output_type": "stream",
     "text": [
      "/tmp/ipykernel_47/1413172577.py:1: FutureWarning: A value is trying to be set on a copy of a DataFrame or Series through chained assignment using an inplace method.\n",
      "The behavior will change in pandas 3.0. This inplace method will never work because the intermediate object on which we are setting values always behaves as a copy.\n",
      "\n",
      "For example, when doing 'df[col].method(value, inplace=True)', try using 'df.method({col: value}, inplace=True)' or df[col] = df[col].method(value) instead, to perform the operation inplace on the original object.\n",
      "\n",
      "\n",
      "  golf['gir'].fillna(0, inplace=True)\n",
      "/tmp/ipykernel_47/1413172577.py:2: FutureWarning: A value is trying to be set on a copy of a DataFrame or Series through chained assignment using an inplace method.\n",
      "The behavior will change in pandas 3.0. This inplace method will never work because the intermediate object on which we are setting values always behaves as a copy.\n",
      "\n",
      "For example, when doing 'df[col].method(value, inplace=True)', try using 'df.method({col: value}, inplace=True)' or df[col] = df[col].method(value) instead, to perform the operation inplace on the original object.\n",
      "\n",
      "\n",
      "  golf['Money'].fillna(0, inplace=True)\n",
      "/tmp/ipykernel_47/1413172577.py:3: FutureWarning: A value is trying to be set on a copy of a DataFrame or Series through chained assignment using an inplace method.\n",
      "The behavior will change in pandas 3.0. This inplace method will never work because the intermediate object on which we are setting values always behaves as a copy.\n",
      "\n",
      "For example, when doing 'df[col].method(value, inplace=True)', try using 'df.method({col: value}, inplace=True)' or df[col] = df[col].method(value) instead, to perform the operation inplace on the original object.\n",
      "\n",
      "\n",
      "  golf['SG:OTT'].fillna(0, inplace = True)\n"
     ]
    }
   ],
   "source": [
    "golf['gir'].fillna(0, inplace=True)\n",
    "golf['Money'].fillna(0, inplace=True)\n",
    "golf['SG:OTT'].fillna(0, inplace = True)"
   ]
  },
  {
   "cell_type": "code",
   "execution_count": 9,
   "id": "73c7a9e7-fca8-4062-8331-bbd8d0fe615a",
   "metadata": {},
   "outputs": [],
   "source": [
    "golf = golf.astype(int, errors='ignore')"
   ]
  },
  {
   "cell_type": "code",
   "execution_count": 10,
   "id": "8f0b3629-0546-4563-9d97-9ce70c081c76",
   "metadata": {},
   "outputs": [],
   "source": [
    "golf = golf.rename(columns={\"Average Putts\": \"AVG_Putts\"})"
   ]
  },
  {
   "cell_type": "code",
   "execution_count": 11,
   "id": "2097d12d-a60d-432b-a938-6a5c6ec29497",
   "metadata": {},
   "outputs": [],
   "source": [
    "golf = golf[golf['gir'] != 0]"
   ]
  },
  {
   "cell_type": "code",
   "execution_count": 12,
   "id": "c13e60b0-1930-4204-a92f-0ab763a4d8aa",
   "metadata": {},
   "outputs": [],
   "source": [
    "golf_no_names = golf.drop(columns = \"Player Name\")"
   ]
  },
  {
   "cell_type": "code",
   "execution_count": 13,
   "id": "89cb11a0-f32f-4536-aba4-f17b579f318c",
   "metadata": {},
   "outputs": [],
   "source": [
    "# Identifying the data types"
   ]
  },
  {
   "cell_type": "code",
   "execution_count": 14,
   "id": "5be9a999-454d-49c9-abcd-de87b48492b2",
   "metadata": {},
   "outputs": [
    {
     "data": {
      "text/plain": [
       "Rounds                float64\n",
       "Fairway Percentage    float64\n",
       "Year                    int64\n",
       "Avg Distance          float64\n",
       "gir                   float64\n",
       "AVG_Putts             float64\n",
       "Average Scrambling    float64\n",
       "Average Score         float64\n",
       "Points                 object\n",
       "Wins                  float64\n",
       "Top 10                float64\n",
       "Average SG Putts      float64\n",
       "Average SG Total      float64\n",
       "SG:OTT                float64\n",
       "SG:APR                float64\n",
       "SG:ARG                float64\n",
       "Money                   int64\n",
       "dtype: object"
      ]
     },
     "execution_count": 14,
     "metadata": {},
     "output_type": "execute_result"
    }
   ],
   "source": [
    "golf_no_names.dtypes"
   ]
  },
  {
   "cell_type": "code",
   "execution_count": 15,
   "id": "6bb565cd-bc83-4fdd-b988-3bb0ebc53561",
   "metadata": {},
   "outputs": [],
   "source": [
    "# Identifying the null data"
   ]
  },
  {
   "cell_type": "code",
   "execution_count": 16,
   "id": "6f152bf2-c4f6-48aa-b5f9-505972f27d35",
   "metadata": {},
   "outputs": [
    {
     "data": {
      "text/plain": [
       "Rounds                   0\n",
       "Fairway Percentage       0\n",
       "Year                     0\n",
       "Avg Distance             0\n",
       "gir                      0\n",
       "AVG_Putts                0\n",
       "Average Scrambling       0\n",
       "Average Score            0\n",
       "Points                   4\n",
       "Wins                  1395\n",
       "Top 10                 325\n",
       "Average SG Putts         0\n",
       "Average SG Total         0\n",
       "SG:OTT                   0\n",
       "SG:APR                   0\n",
       "SG:ARG                   0\n",
       "Money                    0\n",
       "dtype: int64"
      ]
     },
     "execution_count": 16,
     "metadata": {},
     "output_type": "execute_result"
    }
   ],
   "source": [
    "golf_no_names.isnull().sum()"
   ]
  },
  {
   "cell_type": "code",
   "execution_count": 17,
   "id": "2da077ab-e94e-4fdd-9f29-309c9432d217",
   "metadata": {},
   "outputs": [],
   "source": [
    "# Finding the correlation coefficients"
   ]
  },
  {
   "cell_type": "code",
   "execution_count": 18,
   "id": "98cac928-ae7c-4705-b10c-7be2c84cfe33",
   "metadata": {},
   "outputs": [
    {
     "data": {
      "text/html": [
       "<div>\n",
       "<style scoped>\n",
       "    .dataframe tbody tr th:only-of-type {\n",
       "        vertical-align: middle;\n",
       "    }\n",
       "\n",
       "    .dataframe tbody tr th {\n",
       "        vertical-align: top;\n",
       "    }\n",
       "\n",
       "    .dataframe thead th {\n",
       "        text-align: right;\n",
       "    }\n",
       "</style>\n",
       "<table border=\"1\" class=\"dataframe\">\n",
       "  <thead>\n",
       "    <tr style=\"text-align: right;\">\n",
       "      <th></th>\n",
       "      <th>Rounds</th>\n",
       "      <th>Fairway Percentage</th>\n",
       "      <th>Year</th>\n",
       "      <th>Avg Distance</th>\n",
       "      <th>gir</th>\n",
       "      <th>AVG_Putts</th>\n",
       "      <th>Average Scrambling</th>\n",
       "      <th>Average Score</th>\n",
       "      <th>Points</th>\n",
       "      <th>Wins</th>\n",
       "      <th>Top 10</th>\n",
       "      <th>Average SG Putts</th>\n",
       "      <th>Average SG Total</th>\n",
       "      <th>SG:OTT</th>\n",
       "      <th>SG:APR</th>\n",
       "      <th>SG:ARG</th>\n",
       "      <th>Money</th>\n",
       "    </tr>\n",
       "  </thead>\n",
       "  <tbody>\n",
       "    <tr>\n",
       "      <th>Rounds</th>\n",
       "      <td>1.000000</td>\n",
       "      <td>0.083597</td>\n",
       "      <td>0.078522</td>\n",
       "      <td>0.069599</td>\n",
       "      <td>0.252190</td>\n",
       "      <td>-0.125943</td>\n",
       "      <td>0.227928</td>\n",
       "      <td>-0.313380</td>\n",
       "      <td>0.364636</td>\n",
       "      <td>-0.097741</td>\n",
       "      <td>0.211198</td>\n",
       "      <td>0.173218</td>\n",
       "      <td>0.317011</td>\n",
       "      <td>0.164208</td>\n",
       "      <td>0.192764</td>\n",
       "      <td>0.112364</td>\n",
       "      <td>0.281027</td>\n",
       "    </tr>\n",
       "    <tr>\n",
       "      <th>Fairway Percentage</th>\n",
       "      <td>0.083597</td>\n",
       "      <td>1.000000</td>\n",
       "      <td>-0.111042</td>\n",
       "      <td>-0.533832</td>\n",
       "      <td>0.343115</td>\n",
       "      <td>0.162757</td>\n",
       "      <td>0.236281</td>\n",
       "      <td>-0.170017</td>\n",
       "      <td>0.032302</td>\n",
       "      <td>-0.098652</td>\n",
       "      <td>0.024990</td>\n",
       "      <td>-0.043493</td>\n",
       "      <td>0.162458</td>\n",
       "      <td>0.179032</td>\n",
       "      <td>0.155015</td>\n",
       "      <td>0.000356</td>\n",
       "      <td>0.017870</td>\n",
       "    </tr>\n",
       "    <tr>\n",
       "      <th>Year</th>\n",
       "      <td>0.078522</td>\n",
       "      <td>-0.111042</td>\n",
       "      <td>1.000000</td>\n",
       "      <td>0.221102</td>\n",
       "      <td>-0.000044</td>\n",
       "      <td>-0.145524</td>\n",
       "      <td>0.107181</td>\n",
       "      <td>-0.006801</td>\n",
       "      <td>0.057549</td>\n",
       "      <td>0.057845</td>\n",
       "      <td>0.076327</td>\n",
       "      <td>0.023785</td>\n",
       "      <td>0.029939</td>\n",
       "      <td>0.003330</td>\n",
       "      <td>0.009928</td>\n",
       "      <td>0.035493</td>\n",
       "      <td>0.107282</td>\n",
       "    </tr>\n",
       "    <tr>\n",
       "      <th>Avg Distance</th>\n",
       "      <td>0.069599</td>\n",
       "      <td>-0.533832</td>\n",
       "      <td>0.221102</td>\n",
       "      <td>1.000000</td>\n",
       "      <td>0.292965</td>\n",
       "      <td>0.167314</td>\n",
       "      <td>-0.228979</td>\n",
       "      <td>-0.273230</td>\n",
       "      <td>0.281107</td>\n",
       "      <td>0.247126</td>\n",
       "      <td>0.226512</td>\n",
       "      <td>-0.136676</td>\n",
       "      <td>0.278923</td>\n",
       "      <td>0.604456</td>\n",
       "      <td>0.142217</td>\n",
       "      <td>-0.191637</td>\n",
       "      <td>0.325609</td>\n",
       "    </tr>\n",
       "    <tr>\n",
       "      <th>gir</th>\n",
       "      <td>0.252190</td>\n",
       "      <td>0.343115</td>\n",
       "      <td>-0.000044</td>\n",
       "      <td>0.292965</td>\n",
       "      <td>1.000000</td>\n",
       "      <td>0.549402</td>\n",
       "      <td>0.038068</td>\n",
       "      <td>-0.485030</td>\n",
       "      <td>0.303183</td>\n",
       "      <td>0.267357</td>\n",
       "      <td>0.276390</td>\n",
       "      <td>-0.231629</td>\n",
       "      <td>0.487778</td>\n",
       "      <td>0.582466</td>\n",
       "      <td>0.577074</td>\n",
       "      <td>-0.103955</td>\n",
       "      <td>0.314813</td>\n",
       "    </tr>\n",
       "    <tr>\n",
       "      <th>AVG_Putts</th>\n",
       "      <td>-0.125943</td>\n",
       "      <td>0.162757</td>\n",
       "      <td>-0.145524</td>\n",
       "      <td>0.167314</td>\n",
       "      <td>0.549402</td>\n",
       "      <td>1.000000</td>\n",
       "      <td>-0.549805</td>\n",
       "      <td>0.263041</td>\n",
       "      <td>-0.282488</td>\n",
       "      <td>-0.209932</td>\n",
       "      <td>-0.245181</td>\n",
       "      <td>-0.720328</td>\n",
       "      <td>-0.265734</td>\n",
       "      <td>0.293925</td>\n",
       "      <td>0.133635</td>\n",
       "      <td>-0.449081</td>\n",
       "      <td>-0.257001</td>\n",
       "    </tr>\n",
       "    <tr>\n",
       "      <th>Average Scrambling</th>\n",
       "      <td>0.227928</td>\n",
       "      <td>0.236281</td>\n",
       "      <td>0.107181</td>\n",
       "      <td>-0.228979</td>\n",
       "      <td>0.038068</td>\n",
       "      <td>-0.549805</td>\n",
       "      <td>1.000000</td>\n",
       "      <td>-0.518057</td>\n",
       "      <td>0.344421</td>\n",
       "      <td>0.248329</td>\n",
       "      <td>0.311253</td>\n",
       "      <td>0.458220</td>\n",
       "      <td>0.517527</td>\n",
       "      <td>-0.024871</td>\n",
       "      <td>0.196124</td>\n",
       "      <td>0.613776</td>\n",
       "      <td>0.318738</td>\n",
       "    </tr>\n",
       "    <tr>\n",
       "      <th>Average Score</th>\n",
       "      <td>-0.313380</td>\n",
       "      <td>-0.170017</td>\n",
       "      <td>-0.006801</td>\n",
       "      <td>-0.273230</td>\n",
       "      <td>-0.485030</td>\n",
       "      <td>0.263041</td>\n",
       "      <td>-0.518057</td>\n",
       "      <td>1.000000</td>\n",
       "      <td>-0.763993</td>\n",
       "      <td>-0.477661</td>\n",
       "      <td>-0.700529</td>\n",
       "      <td>-0.364817</td>\n",
       "      <td>-0.962318</td>\n",
       "      <td>-0.530624</td>\n",
       "      <td>-0.669370</td>\n",
       "      <td>-0.390284</td>\n",
       "      <td>-0.743698</td>\n",
       "    </tr>\n",
       "    <tr>\n",
       "      <th>Points</th>\n",
       "      <td>0.364636</td>\n",
       "      <td>0.032302</td>\n",
       "      <td>0.057549</td>\n",
       "      <td>0.281107</td>\n",
       "      <td>0.303183</td>\n",
       "      <td>-0.282488</td>\n",
       "      <td>0.344421</td>\n",
       "      <td>-0.763993</td>\n",
       "      <td>1.000000</td>\n",
       "      <td>0.760674</td>\n",
       "      <td>0.814762</td>\n",
       "      <td>0.297614</td>\n",
       "      <td>0.761594</td>\n",
       "      <td>0.437439</td>\n",
       "      <td>0.521278</td>\n",
       "      <td>0.284049</td>\n",
       "      <td>0.949286</td>\n",
       "    </tr>\n",
       "    <tr>\n",
       "      <th>Wins</th>\n",
       "      <td>-0.097741</td>\n",
       "      <td>-0.098652</td>\n",
       "      <td>0.057845</td>\n",
       "      <td>0.247126</td>\n",
       "      <td>0.267357</td>\n",
       "      <td>-0.209932</td>\n",
       "      <td>0.248329</td>\n",
       "      <td>-0.477661</td>\n",
       "      <td>0.760674</td>\n",
       "      <td>1.000000</td>\n",
       "      <td>0.446548</td>\n",
       "      <td>0.216024</td>\n",
       "      <td>0.470284</td>\n",
       "      <td>0.244059</td>\n",
       "      <td>0.348876</td>\n",
       "      <td>0.217539</td>\n",
       "      <td>0.723865</td>\n",
       "    </tr>\n",
       "    <tr>\n",
       "      <th>Top 10</th>\n",
       "      <td>0.211198</td>\n",
       "      <td>0.024990</td>\n",
       "      <td>0.076327</td>\n",
       "      <td>0.226512</td>\n",
       "      <td>0.276390</td>\n",
       "      <td>-0.245181</td>\n",
       "      <td>0.311253</td>\n",
       "      <td>-0.700529</td>\n",
       "      <td>0.814762</td>\n",
       "      <td>0.446548</td>\n",
       "      <td>1.000000</td>\n",
       "      <td>0.270748</td>\n",
       "      <td>0.695163</td>\n",
       "      <td>0.352702</td>\n",
       "      <td>0.457636</td>\n",
       "      <td>0.254826</td>\n",
       "      <td>0.798771</td>\n",
       "    </tr>\n",
       "    <tr>\n",
       "      <th>Average SG Putts</th>\n",
       "      <td>0.173218</td>\n",
       "      <td>-0.043493</td>\n",
       "      <td>0.023785</td>\n",
       "      <td>-0.136676</td>\n",
       "      <td>-0.231629</td>\n",
       "      <td>-0.720328</td>\n",
       "      <td>0.458220</td>\n",
       "      <td>-0.364817</td>\n",
       "      <td>0.297614</td>\n",
       "      <td>0.216024</td>\n",
       "      <td>0.270748</td>\n",
       "      <td>1.000000</td>\n",
       "      <td>0.388997</td>\n",
       "      <td>-0.218983</td>\n",
       "      <td>-0.122212</td>\n",
       "      <td>0.255924</td>\n",
       "      <td>0.277767</td>\n",
       "    </tr>\n",
       "    <tr>\n",
       "      <th>Average SG Total</th>\n",
       "      <td>0.317011</td>\n",
       "      <td>0.162458</td>\n",
       "      <td>0.029939</td>\n",
       "      <td>0.278923</td>\n",
       "      <td>0.487778</td>\n",
       "      <td>-0.265734</td>\n",
       "      <td>0.517527</td>\n",
       "      <td>-0.962318</td>\n",
       "      <td>0.761594</td>\n",
       "      <td>0.470284</td>\n",
       "      <td>0.695163</td>\n",
       "      <td>0.388997</td>\n",
       "      <td>1.000000</td>\n",
       "      <td>0.540768</td>\n",
       "      <td>0.694833</td>\n",
       "      <td>0.407048</td>\n",
       "      <td>0.744796</td>\n",
       "    </tr>\n",
       "    <tr>\n",
       "      <th>SG:OTT</th>\n",
       "      <td>0.164208</td>\n",
       "      <td>0.179032</td>\n",
       "      <td>0.003330</td>\n",
       "      <td>0.604456</td>\n",
       "      <td>0.582466</td>\n",
       "      <td>0.293925</td>\n",
       "      <td>-0.024871</td>\n",
       "      <td>-0.530624</td>\n",
       "      <td>0.437439</td>\n",
       "      <td>0.244059</td>\n",
       "      <td>0.352702</td>\n",
       "      <td>-0.218983</td>\n",
       "      <td>0.540768</td>\n",
       "      <td>1.000000</td>\n",
       "      <td>0.303073</td>\n",
       "      <td>-0.198897</td>\n",
       "      <td>0.438524</td>\n",
       "    </tr>\n",
       "    <tr>\n",
       "      <th>SG:APR</th>\n",
       "      <td>0.192764</td>\n",
       "      <td>0.155015</td>\n",
       "      <td>0.009928</td>\n",
       "      <td>0.142217</td>\n",
       "      <td>0.577074</td>\n",
       "      <td>0.133635</td>\n",
       "      <td>0.196124</td>\n",
       "      <td>-0.669370</td>\n",
       "      <td>0.521278</td>\n",
       "      <td>0.348876</td>\n",
       "      <td>0.457636</td>\n",
       "      <td>-0.122212</td>\n",
       "      <td>0.694833</td>\n",
       "      <td>0.303073</td>\n",
       "      <td>1.000000</td>\n",
       "      <td>0.126862</td>\n",
       "      <td>0.509867</td>\n",
       "    </tr>\n",
       "    <tr>\n",
       "      <th>SG:ARG</th>\n",
       "      <td>0.112364</td>\n",
       "      <td>0.000356</td>\n",
       "      <td>0.035493</td>\n",
       "      <td>-0.191637</td>\n",
       "      <td>-0.103955</td>\n",
       "      <td>-0.449081</td>\n",
       "      <td>0.613776</td>\n",
       "      <td>-0.390284</td>\n",
       "      <td>0.284049</td>\n",
       "      <td>0.217539</td>\n",
       "      <td>0.254826</td>\n",
       "      <td>0.255924</td>\n",
       "      <td>0.407048</td>\n",
       "      <td>-0.198897</td>\n",
       "      <td>0.126862</td>\n",
       "      <td>1.000000</td>\n",
       "      <td>0.279390</td>\n",
       "    </tr>\n",
       "    <tr>\n",
       "      <th>Money</th>\n",
       "      <td>0.281027</td>\n",
       "      <td>0.017870</td>\n",
       "      <td>0.107282</td>\n",
       "      <td>0.325609</td>\n",
       "      <td>0.314813</td>\n",
       "      <td>-0.257001</td>\n",
       "      <td>0.318738</td>\n",
       "      <td>-0.743698</td>\n",
       "      <td>0.949286</td>\n",
       "      <td>0.723865</td>\n",
       "      <td>0.798771</td>\n",
       "      <td>0.277767</td>\n",
       "      <td>0.744796</td>\n",
       "      <td>0.438524</td>\n",
       "      <td>0.509867</td>\n",
       "      <td>0.279390</td>\n",
       "      <td>1.000000</td>\n",
       "    </tr>\n",
       "  </tbody>\n",
       "</table>\n",
       "</div>"
      ],
      "text/plain": [
       "                      Rounds  Fairway Percentage      Year  Avg Distance  \\\n",
       "Rounds              1.000000            0.083597  0.078522      0.069599   \n",
       "Fairway Percentage  0.083597            1.000000 -0.111042     -0.533832   \n",
       "Year                0.078522           -0.111042  1.000000      0.221102   \n",
       "Avg Distance        0.069599           -0.533832  0.221102      1.000000   \n",
       "gir                 0.252190            0.343115 -0.000044      0.292965   \n",
       "AVG_Putts          -0.125943            0.162757 -0.145524      0.167314   \n",
       "Average Scrambling  0.227928            0.236281  0.107181     -0.228979   \n",
       "Average Score      -0.313380           -0.170017 -0.006801     -0.273230   \n",
       "Points              0.364636            0.032302  0.057549      0.281107   \n",
       "Wins               -0.097741           -0.098652  0.057845      0.247126   \n",
       "Top 10              0.211198            0.024990  0.076327      0.226512   \n",
       "Average SG Putts    0.173218           -0.043493  0.023785     -0.136676   \n",
       "Average SG Total    0.317011            0.162458  0.029939      0.278923   \n",
       "SG:OTT              0.164208            0.179032  0.003330      0.604456   \n",
       "SG:APR              0.192764            0.155015  0.009928      0.142217   \n",
       "SG:ARG              0.112364            0.000356  0.035493     -0.191637   \n",
       "Money               0.281027            0.017870  0.107282      0.325609   \n",
       "\n",
       "                         gir  AVG_Putts  Average Scrambling  Average Score  \\\n",
       "Rounds              0.252190  -0.125943            0.227928      -0.313380   \n",
       "Fairway Percentage  0.343115   0.162757            0.236281      -0.170017   \n",
       "Year               -0.000044  -0.145524            0.107181      -0.006801   \n",
       "Avg Distance        0.292965   0.167314           -0.228979      -0.273230   \n",
       "gir                 1.000000   0.549402            0.038068      -0.485030   \n",
       "AVG_Putts           0.549402   1.000000           -0.549805       0.263041   \n",
       "Average Scrambling  0.038068  -0.549805            1.000000      -0.518057   \n",
       "Average Score      -0.485030   0.263041           -0.518057       1.000000   \n",
       "Points              0.303183  -0.282488            0.344421      -0.763993   \n",
       "Wins                0.267357  -0.209932            0.248329      -0.477661   \n",
       "Top 10              0.276390  -0.245181            0.311253      -0.700529   \n",
       "Average SG Putts   -0.231629  -0.720328            0.458220      -0.364817   \n",
       "Average SG Total    0.487778  -0.265734            0.517527      -0.962318   \n",
       "SG:OTT              0.582466   0.293925           -0.024871      -0.530624   \n",
       "SG:APR              0.577074   0.133635            0.196124      -0.669370   \n",
       "SG:ARG             -0.103955  -0.449081            0.613776      -0.390284   \n",
       "Money               0.314813  -0.257001            0.318738      -0.743698   \n",
       "\n",
       "                      Points      Wins    Top 10  Average SG Putts  \\\n",
       "Rounds              0.364636 -0.097741  0.211198          0.173218   \n",
       "Fairway Percentage  0.032302 -0.098652  0.024990         -0.043493   \n",
       "Year                0.057549  0.057845  0.076327          0.023785   \n",
       "Avg Distance        0.281107  0.247126  0.226512         -0.136676   \n",
       "gir                 0.303183  0.267357  0.276390         -0.231629   \n",
       "AVG_Putts          -0.282488 -0.209932 -0.245181         -0.720328   \n",
       "Average Scrambling  0.344421  0.248329  0.311253          0.458220   \n",
       "Average Score      -0.763993 -0.477661 -0.700529         -0.364817   \n",
       "Points              1.000000  0.760674  0.814762          0.297614   \n",
       "Wins                0.760674  1.000000  0.446548          0.216024   \n",
       "Top 10              0.814762  0.446548  1.000000          0.270748   \n",
       "Average SG Putts    0.297614  0.216024  0.270748          1.000000   \n",
       "Average SG Total    0.761594  0.470284  0.695163          0.388997   \n",
       "SG:OTT              0.437439  0.244059  0.352702         -0.218983   \n",
       "SG:APR              0.521278  0.348876  0.457636         -0.122212   \n",
       "SG:ARG              0.284049  0.217539  0.254826          0.255924   \n",
       "Money               0.949286  0.723865  0.798771          0.277767   \n",
       "\n",
       "                    Average SG Total    SG:OTT    SG:APR    SG:ARG     Money  \n",
       "Rounds                      0.317011  0.164208  0.192764  0.112364  0.281027  \n",
       "Fairway Percentage          0.162458  0.179032  0.155015  0.000356  0.017870  \n",
       "Year                        0.029939  0.003330  0.009928  0.035493  0.107282  \n",
       "Avg Distance                0.278923  0.604456  0.142217 -0.191637  0.325609  \n",
       "gir                         0.487778  0.582466  0.577074 -0.103955  0.314813  \n",
       "AVG_Putts                  -0.265734  0.293925  0.133635 -0.449081 -0.257001  \n",
       "Average Scrambling          0.517527 -0.024871  0.196124  0.613776  0.318738  \n",
       "Average Score              -0.962318 -0.530624 -0.669370 -0.390284 -0.743698  \n",
       "Points                      0.761594  0.437439  0.521278  0.284049  0.949286  \n",
       "Wins                        0.470284  0.244059  0.348876  0.217539  0.723865  \n",
       "Top 10                      0.695163  0.352702  0.457636  0.254826  0.798771  \n",
       "Average SG Putts            0.388997 -0.218983 -0.122212  0.255924  0.277767  \n",
       "Average SG Total            1.000000  0.540768  0.694833  0.407048  0.744796  \n",
       "SG:OTT                      0.540768  1.000000  0.303073 -0.198897  0.438524  \n",
       "SG:APR                      0.694833  0.303073  1.000000  0.126862  0.509867  \n",
       "SG:ARG                      0.407048 -0.198897  0.126862  1.000000  0.279390  \n",
       "Money                       0.744796  0.438524  0.509867  0.279390  1.000000  "
      ]
     },
     "execution_count": 18,
     "metadata": {},
     "output_type": "execute_result"
    }
   ],
   "source": [
    "golf_no_names.corr()"
   ]
  },
  {
   "cell_type": "code",
   "execution_count": 19,
   "id": "e5f0c122-b8f8-41cf-af8f-ea8969682cde",
   "metadata": {},
   "outputs": [],
   "source": [
    "# Look at Average Score on the correlation matrix \n",
    "\n",
    "# Average Score\t-0.313380\t-0.170017\t-0.006801\t-0.273230\t-0.485030\t0.263041\t-0.518057\t1.000000\t-0.763993\t-0.477661\t-0.700529\t-0.364817\t-0.962318\t-0.530624\t-0.669370\t-0.390284\t-0.743698"
   ]
  },
  {
   "cell_type": "code",
   "execution_count": null,
   "id": "bedc4bbf-ca93-4e24-88d3-b1539a627f63",
   "metadata": {},
   "outputs": [],
   "source": []
  },
  {
   "cell_type": "code",
   "execution_count": 20,
   "id": "7cdf1215-9065-4212-8cf0-a87387cf6a5d",
   "metadata": {},
   "outputs": [],
   "source": [
    "# Creating the predictors and the target"
   ]
  },
  {
   "cell_type": "code",
   "execution_count": 21,
   "id": "b3039cf5-0f9c-4f21-ae8f-7f1b91b1efda",
   "metadata": {},
   "outputs": [
    {
     "data": {
      "text/html": [
       "<div>\n",
       "<style scoped>\n",
       "    .dataframe tbody tr th:only-of-type {\n",
       "        vertical-align: middle;\n",
       "    }\n",
       "\n",
       "    .dataframe tbody tr th {\n",
       "        vertical-align: top;\n",
       "    }\n",
       "\n",
       "    .dataframe thead th {\n",
       "        text-align: right;\n",
       "    }\n",
       "</style>\n",
       "<table border=\"1\" class=\"dataframe\">\n",
       "  <thead>\n",
       "    <tr style=\"text-align: right;\">\n",
       "      <th></th>\n",
       "      <th>gir</th>\n",
       "      <th>SG:OTT</th>\n",
       "    </tr>\n",
       "  </thead>\n",
       "  <tbody>\n",
       "    <tr>\n",
       "      <th>0</th>\n",
       "      <td>73.51</td>\n",
       "      <td>0.427</td>\n",
       "    </tr>\n",
       "    <tr>\n",
       "      <th>1</th>\n",
       "      <td>68.22</td>\n",
       "      <td>-0.012</td>\n",
       "    </tr>\n",
       "    <tr>\n",
       "      <th>2</th>\n",
       "      <td>68.67</td>\n",
       "      <td>0.183</td>\n",
       "    </tr>\n",
       "    <tr>\n",
       "      <th>3</th>\n",
       "      <td>68.80</td>\n",
       "      <td>0.406</td>\n",
       "    </tr>\n",
       "    <tr>\n",
       "      <th>4</th>\n",
       "      <td>67.12</td>\n",
       "      <td>-0.227</td>\n",
       "    </tr>\n",
       "    <tr>\n",
       "      <th>...</th>\n",
       "      <td>...</td>\n",
       "      <td>...</td>\n",
       "    </tr>\n",
       "    <tr>\n",
       "      <th>1673</th>\n",
       "      <td>65.13</td>\n",
       "      <td>0.185</td>\n",
       "    </tr>\n",
       "    <tr>\n",
       "      <th>1674</th>\n",
       "      <td>65.66</td>\n",
       "      <td>0.336</td>\n",
       "    </tr>\n",
       "    <tr>\n",
       "      <th>1675</th>\n",
       "      <td>65.88</td>\n",
       "      <td>-0.538</td>\n",
       "    </tr>\n",
       "    <tr>\n",
       "      <th>1676</th>\n",
       "      <td>61.64</td>\n",
       "      <td>-0.307</td>\n",
       "    </tr>\n",
       "    <tr>\n",
       "      <th>1677</th>\n",
       "      <td>64.79</td>\n",
       "      <td>-0.223</td>\n",
       "    </tr>\n",
       "  </tbody>\n",
       "</table>\n",
       "<p>1678 rows × 2 columns</p>\n",
       "</div>"
      ],
      "text/plain": [
       "        gir  SG:OTT\n",
       "0     73.51   0.427\n",
       "1     68.22  -0.012\n",
       "2     68.67   0.183\n",
       "3     68.80   0.406\n",
       "4     67.12  -0.227\n",
       "...     ...     ...\n",
       "1673  65.13   0.185\n",
       "1674  65.66   0.336\n",
       "1675  65.88  -0.538\n",
       "1676  61.64  -0.307\n",
       "1677  64.79  -0.223\n",
       "\n",
       "[1678 rows x 2 columns]"
      ]
     },
     "execution_count": 21,
     "metadata": {},
     "output_type": "execute_result"
    }
   ],
   "source": [
    "X = golf[[\"gir\", 'SG:OTT']]\n",
    "X = X.astype(float, errors='ignore')\n",
    "X"
   ]
  },
  {
   "cell_type": "code",
   "execution_count": 22,
   "id": "6f5d9aac-27e2-4285-bf1c-c59303cee8e6",
   "metadata": {},
   "outputs": [
    {
     "data": {
      "text/plain": [
       "array([[ 7.351e+01,  4.270e-01],\n",
       "       [ 6.822e+01, -1.200e-02],\n",
       "       [ 6.867e+01,  1.830e-01],\n",
       "       ...,\n",
       "       [ 6.588e+01, -5.380e-01],\n",
       "       [ 6.164e+01, -3.070e-01],\n",
       "       [ 6.479e+01, -2.230e-01]])"
      ]
     },
     "execution_count": 22,
     "metadata": {},
     "output_type": "execute_result"
    }
   ],
   "source": [
    "X = np.array(X)\n",
    "X"
   ]
  },
  {
   "cell_type": "code",
   "execution_count": 23,
   "id": "c00886db-3379-4519-8e64-3f18d44e1152",
   "metadata": {},
   "outputs": [
    {
     "data": {
      "text/plain": [
       "array([2680487, 2485203, 2700018, ...,  937987,  311405,  318673])"
      ]
     },
     "execution_count": 23,
     "metadata": {},
     "output_type": "execute_result"
    }
   ],
   "source": [
    "y = golf['Money']\n",
    "y = np.array(y)\n",
    "y"
   ]
  },
  {
   "cell_type": "code",
   "execution_count": 24,
   "id": "f2a79aae-ad98-4ed4-a6b7-82741c734af0",
   "metadata": {},
   "outputs": [],
   "source": [
    "y = y.astype(float)"
   ]
  },
  {
   "cell_type": "code",
   "execution_count": null,
   "id": "f4e7ca4f-d2b9-418a-82ba-277e3d2aa51d",
   "metadata": {},
   "outputs": [],
   "source": []
  },
  {
   "cell_type": "code",
   "execution_count": 25,
   "id": "f44cb1d4-89cd-40ad-9da8-426710970c46",
   "metadata": {},
   "outputs": [],
   "source": [
    "# Defining the do_Kfold function"
   ]
  },
  {
   "cell_type": "code",
   "execution_count": 26,
   "id": "eba56146-0431-44b1-a930-81020f69df85",
   "metadata": {},
   "outputs": [],
   "source": [
    "def do_Kfold(model, X, y, k, scaler = None, random_state = 146):\n",
    "\n",
    "    from sklearn.model_selection import KFold\n",
    "\n",
    "    kf = KFold(n_splits = k, random_state = random_state, shuffle = True)\n",
    "\n",
    "    train_scores = []\n",
    "    test_scores = []\n",
    "    model_coefficients = []\n",
    "\n",
    "    for idxTrain, idxTest in kf.split(X):\n",
    "        Xtrain = X[idxTrain, :]\n",
    "        Xtest = X[idxTest, : ]\n",
    "        ytrain = y[idxTrain]\n",
    "        ytest = y[idxTest]\n",
    "        if scaler != None:\n",
    "            Xtrain = scaler.fit_transform(Xtrain)\n",
    "            Xtest = scaler.transform(Xtest)\n",
    "\n",
    "        \n",
    "        model.fit(Xtrain,ytrain) # then in this iteration of the for loop, a regression model is fit to\n",
    "\n",
    "        train_scores.append(model.score(Xtrain, ytrain))\n",
    "        test_scores.append(model.score(Xtest, ytest))\n",
    "        model_coefficients.append(model.coef_)\n",
    "\n",
    "        avg_training_score = np.mean(train_scores)\n",
    "        avg_testing_score = np.mean(test_scores)\n",
    "        best_coefficients = model_coefficients[test_scores.index(np.max(test_scores))]\n",
    "\n",
    "\n",
    "\n",
    "    return print(f\"For {k} models produced, \", \"\\n\", \"The average training score is: \", avg_training_score, \"\\n\", \"The average testing score is: \", avg_testing_score, \"\\n\", f\"The model that performs the best (has the highest R^2 score) has the coefficients {best_coefficients}\", \"\\n\" f\"So the regression equation would be: y = {best_coefficients[0]}x + {best_coefficients[1]}x. \")\n",
    "\n"
   ]
  },
  {
   "cell_type": "code",
   "execution_count": 27,
   "id": "801ab1ab-6b6d-4de1-af43-6c69b5e97793",
   "metadata": {},
   "outputs": [],
   "source": [
    "lin_reg = LR()"
   ]
  },
  {
   "cell_type": "code",
   "execution_count": 28,
   "id": "c0af22f4-37d6-4f81-86bb-9aefef72bdf5",
   "metadata": {},
   "outputs": [
    {
     "name": "stdout",
     "output_type": "stream",
     "text": [
      "For 50 models produced,  \n",
      " The average training score is:  0.19766011058929617 \n",
      " The average testing score is:  0.13633862169539818 \n",
      " The model that performs the best (has the highest R^2 score) has the coefficients [  48106.96311417 1408986.52540458] \n",
      "So the regression equation would be: y = 48106.96311416778x + 1408986.5254045846x. \n"
     ]
    }
   ],
   "source": [
    "results = do_Kfold(lin_reg, X, y, k=50)\n",
    "results"
   ]
  },
  {
   "cell_type": "code",
   "execution_count": null,
   "id": "7d6e626c-2b7e-47d2-8b5a-b559b80e531f",
   "metadata": {},
   "outputs": [],
   "source": []
  },
  {
   "cell_type": "code",
   "execution_count": 29,
   "id": "4ea7ba36-938d-4147-a7a6-5e0d8c02a4eb",
   "metadata": {},
   "outputs": [],
   "source": [
    "# Performing Ridge regression on the data"
   ]
  },
  {
   "cell_type": "code",
   "execution_count": 30,
   "id": "1fb5d884-b9c0-46a3-b82a-e04505b453b2",
   "metadata": {},
   "outputs": [],
   "source": [
    "ss = SS()"
   ]
  },
  {
   "cell_type": "code",
   "execution_count": 31,
   "id": "507cabfa-1200-40b5-b7a5-29ac4f984c5f",
   "metadata": {},
   "outputs": [
    {
     "name": "stdout",
     "output_type": "stream",
     "text": [
      "For 50 models produced,  \n",
      " The average training score is:  0.19711814437265548 \n",
      " The average testing score is:  0.13933842745646877 \n",
      " The model that performs the best (has the highest R^2 score) has the coefficients [145004.40966175 495478.4327078 ] \n",
      "So the regression equation would be: y = 145004.40966174577x + 495478.43270779785x. \n"
     ]
    }
   ],
   "source": [
    "a = 100\n",
    "rid_reg = Ridge(alpha=a)\n",
    "do_Kfold(rid_reg, X, y, 50, ss)"
   ]
  },
  {
   "cell_type": "code",
   "execution_count": 32,
   "id": "57cb7c5a-2644-4730-823d-76317307912e",
   "metadata": {},
   "outputs": [
    {
     "name": "stdout",
     "output_type": "stream",
     "text": [
      "For 50 models produced,  \n",
      " The average training score is:  0.19751188061233488 \n",
      " The average testing score is:  0.1380558720397049 \n",
      " The model that performs the best (has the highest R^2 score) has the coefficients [139263.18437647 513326.47746305] \n",
      "So the regression equation would be: y = 139263.18437647325x + 513326.4774630502x. \n"
     ]
    }
   ],
   "source": [
    "a = 50\n",
    "rid_reg = Ridge(alpha=a)\n",
    "do_Kfold(rid_reg, X, y, 50, ss)"
   ]
  },
  {
   "cell_type": "code",
   "execution_count": 33,
   "id": "70dbfd2c-1e1d-40be-803e-62175dc01dd4",
   "metadata": {},
   "outputs": [
    {
     "name": "stdout",
     "output_type": "stream",
     "text": [
      "For 50 models produced,  \n",
      " The average training score is:  0.19765370336705004 \n",
      " The average testing score is:  0.1367223483104032 \n",
      " The model that performs the best (has the highest R^2 score) has the coefficients [133629.2936021  528980.42905477] \n",
      "So the regression equation would be: y = 133629.29360209568x + 528980.4290547718x. \n"
     ]
    }
   ],
   "source": [
    "a = 10\n",
    "rid_reg = Ridge(alpha=a)\n",
    "do_Kfold(rid_reg, X, y, 50, ss)"
   ]
  },
  {
   "cell_type": "code",
   "execution_count": 34,
   "id": "1693d865-1c64-4b6b-8df2-4d7dc1435a68",
   "metadata": {},
   "outputs": [
    {
     "name": "stdout",
     "output_type": "stream",
     "text": [
      "For 50 models produced,  \n",
      " The average training score is:  0.19766004533911818 \n",
      " The average testing score is:  0.13637798033481044 \n",
      " The model that performs the best (has the highest R^2 score) has the coefficients [132213.8208718  532692.96767649] \n",
      "So the regression equation would be: y = 132213.82087179594x + 532692.9676764867x. \n"
     ]
    }
   ],
   "source": [
    "a = 1\n",
    "rid_reg = Ridge(alpha=a)\n",
    "do_Kfold(rid_reg, X, y, 50, ss)"
   ]
  },
  {
   "cell_type": "code",
   "execution_count": 35,
   "id": "6948832f-5e91-4848-9ab6-3bc86c46f06c",
   "metadata": {
    "scrolled": true
   },
   "outputs": [
    {
     "name": "stdout",
     "output_type": "stream",
     "text": [
      "For 50 models produced,  \n",
      " The average training score is:  0.19766011058929614 \n",
      " The average testing score is:  0.13633862169539823 \n",
      " The model that performs the best (has the highest R^2 score) has the coefficients [132052.92612437 533110.0754607 ] \n",
      "So the regression equation would be: y = 132052.92612436588x + 533110.075460696x. \n"
     ]
    }
   ],
   "source": [
    "a = 0\n",
    "rid_reg = Ridge(alpha=a)\n",
    "do_Kfold(rid_reg, X, y, 50, ss)"
   ]
  },
  {
   "cell_type": "code",
   "execution_count": 36,
   "id": "7fd4d167-7da5-4596-a621-ab076e3535e3",
   "metadata": {},
   "outputs": [],
   "source": [
    "# The optimal value for alpha is 0, which shows that Ridge regression penalization hardly makes an impact \n",
    "# in this data. Increasing the alpha value for Ridge would make the model closer to being overfit.\n"
   ]
  },
  {
   "cell_type": "code",
   "execution_count": null,
   "id": "33ddbd67-a7bb-4317-80a7-3a2334262162",
   "metadata": {},
   "outputs": [],
   "source": []
  },
  {
   "cell_type": "code",
   "execution_count": 37,
   "id": "45aa3d42-23f0-43a7-8c12-5c05cfad7ae1",
   "metadata": {},
   "outputs": [],
   "source": [
    "# Performing Lasso regression"
   ]
  },
  {
   "cell_type": "code",
   "execution_count": null,
   "id": "2cb92fa0-f616-436b-950f-52719c51cb97",
   "metadata": {},
   "outputs": [],
   "source": []
  },
  {
   "cell_type": "code",
   "execution_count": null,
   "id": "59f4d9b7-d973-45c5-bf83-74d4e045f588",
   "metadata": {},
   "outputs": [],
   "source": []
  },
  {
   "cell_type": "code",
   "execution_count": null,
   "id": "52535de2-451b-42fd-83ec-3ef52532c432",
   "metadata": {},
   "outputs": [],
   "source": []
  },
  {
   "cell_type": "code",
   "execution_count": 38,
   "id": "e9fd171e-065a-410d-b3fb-231bbf72cc3b",
   "metadata": {},
   "outputs": [],
   "source": [
    "# Performing OLS with just one variable, gir, which means greens in regulation. Greens in regulation tells us the number\n",
    "# of times a golfer gets the ball on the green in two minus the par (or less) in any given hole."
   ]
  },
  {
   "cell_type": "code",
   "execution_count": 39,
   "id": "da5b5d83-8bb7-4b47-87e3-26e0304600bc",
   "metadata": {},
   "outputs": [
    {
     "data": {
      "text/plain": [
       "array([73.51, 68.22, 68.67, ..., 65.88, 61.64, 64.79])"
      ]
     },
     "execution_count": 39,
     "metadata": {},
     "output_type": "execute_result"
    }
   ],
   "source": [
    "X_one_variable = X[:, 0]\n",
    "X_one_variable"
   ]
  },
  {
   "cell_type": "code",
   "execution_count": 40,
   "id": "e34a8704-a072-45b2-86a0-1efc52845cbb",
   "metadata": {},
   "outputs": [
    {
     "data": {
      "text/plain": [
       "array([2680487., 2485203., 2700018., ...,  937987.,  311405.,  318673.])"
      ]
     },
     "execution_count": 40,
     "metadata": {},
     "output_type": "execute_result"
    }
   ],
   "source": [
    "y"
   ]
  },
  {
   "cell_type": "code",
   "execution_count": 41,
   "id": "2ccabb43-acff-4f98-b7bf-f7b06678bab4",
   "metadata": {},
   "outputs": [],
   "source": [
    "X_list, y_list = X_one_variable.tolist(), y.tolist()"
   ]
  },
  {
   "cell_type": "code",
   "execution_count": 42,
   "id": "80a72278-f756-4932-b53d-709d583579e6",
   "metadata": {},
   "outputs": [],
   "source": [
    "X_nplist = np.array(X_list, dtype=np.float64)\n",
    "y_nplist = np.array(y_list, dtype=np.float64)"
   ]
  },
  {
   "cell_type": "code",
   "execution_count": 43,
   "id": "c1dd33c0-3b81-450b-8e64-e5ffd36917af",
   "metadata": {},
   "outputs": [
    {
     "data": {
      "text/plain": [
       "array([73.51, 68.22, 68.67, ..., 65.88, 61.64, 64.79])"
      ]
     },
     "execution_count": 43,
     "metadata": {},
     "output_type": "execute_result"
    }
   ],
   "source": [
    "X_nplist"
   ]
  },
  {
   "cell_type": "code",
   "execution_count": 44,
   "id": "39d446e6-8df1-4cba-ab9c-a4a20e360340",
   "metadata": {},
   "outputs": [
    {
     "data": {
      "text/plain": [
       "array([2680487., 2485203., 2700018., ...,  937987.,  311405.,  318673.])"
      ]
     },
     "execution_count": 44,
     "metadata": {},
     "output_type": "execute_result"
    }
   ],
   "source": [
    "y_nplist"
   ]
  },
  {
   "cell_type": "code",
   "execution_count": 45,
   "id": "99824a9f-e8c7-461e-a890-1c386fa4bd84",
   "metadata": {},
   "outputs": [
    {
     "name": "stdout",
     "output_type": "stream",
     "text": [
      "best fit line:\n",
      "y = -9135150.37 + 161742.50x\n"
     ]
    },
    {
     "data": {
      "text/plain": [
       "[<matplotlib.lines.Line2D at 0x7f8a6eba4750>]"
      ]
     },
     "execution_count": 45,
     "metadata": {},
     "output_type": "execute_result"
    },
    {
     "data": {
      "image/png": "[encoded data removed]",
      "text/plain": [
       "<Figure size 640x480 with 1 Axes>"
      ]
     },
     "metadata": {},
     "output_type": "display_data"
    }
   ],
   "source": [
    "def best_fit(X, Y):\n",
    "\n",
    "    xbar = sum(X)/len(X)\n",
    "    ybar = sum(Y)/len(Y)\n",
    "    n = len(X)\n",
    "\n",
    "    numer = sum([xi*yi for xi,yi in zip(X, Y)]) - n * xbar * ybar\n",
    "    denum = sum([xi**2 for xi in X]) - n * xbar**2\n",
    "\n",
    "    b = numer / denum\n",
    "    a = ybar - b * xbar\n",
    "\n",
    "    print('best fit line:\\ny = {:.2f} + {:.2f}x'.format(a, b))\n",
    "\n",
    "    return a, b\n",
    "\n",
    "a, b = best_fit(X_one_variable, y)\n",
    "\n",
    "# plot points and fit line\n",
    "import matplotlib.pyplot as plt\n",
    "plt.scatter(X_one_variable, y)\n",
    "yfit = [a + b * xi for xi in X_one_variable]\n",
    "plt.plot(X_one_variable, yfit, color = 'orange')"
   ]
  },
  {
   "cell_type": "code",
   "execution_count": null,
   "id": "4660be23-1f97-44f3-9044-c9a7131efd1f",
   "metadata": {},
   "outputs": [],
   "source": []
  },
  {
   "cell_type": "code",
   "execution_count": 46,
   "id": "3cfbede9-e115-4611-a9cd-298f43ff7b2b",
   "metadata": {},
   "outputs": [],
   "source": [
    "# k = 10\n",
    "# ss = SS()\n",
    "\n",
    "a_range = np.linspace(0,50,100)\n",
    "\n",
    "# avg_tr_score=[]\n",
    "# avg_te_score=[]\n",
    "X_scores = []\n",
    "\n",
    "X_one_variable_reshaped = X_one_variable.reshape(-1, 1)\n",
    "\n",
    "for a in a_range:\n",
    "    rid_reg = Ridge(alpha=a)\n",
    "    rid_reg.fit(X_one_variable_reshaped, y)\n",
    "    X_scores.append(rid_reg.score(X_one_variable_reshaped, y))\n"
   ]
  },
  {
   "cell_type": "code",
   "execution_count": 47,
   "id": "1017dae4-9948-4b1b-bbbb-72f5507ad9c7",
   "metadata": {},
   "outputs": [
    {
     "name": "stdout",
     "output_type": "stream",
     "text": [
      "[0.09910699434363857, 0.09910699418542501, 0.09910699371083476, 0.09910699291994429, 0.09910699181282856, 0.09910699038956383, 0.09910698865022582, 0.09910698659489026, 0.09910698422363307, 0.09910698153652986, 0.09910697853365602, 0.09910697521508782, 0.09910697158090054, 0.0991069676311701, 0.09910696336597191, 0.09910695878538145, 0.09910695388947488, 0.09910694867832726, 0.09910694315201451, 0.09910693731061204, 0.09910693115419511, 0.09910692468283977, 0.09910691789662096, 0.09910691079561462, 0.09910690337989592, 0.09910689564954056, 0.0991068876046236, 0.09910687924522066, 0.0991068705714071, 0.09910686158325832, 0.09910685228084959, 0.09910684266425618, 0.09910683273355392, 0.0991068224888173, 0.09910681193012216, 0.09910680105754366, 0.09910678987115684, 0.0991067783710371, 0.0991067665572597, 0.09910675442989969, 0.09910674198903213, 0.0991067292347324, 0.09910671616707556, 0.09910670278613698, 0.09910668909199105, 0.09910667508471349, 0.09910666076437913, 0.09910664613106324, 0.09910663118484053, 0.09910661592578618, 0.099106600353975, 0.09910658446948217, 0.09910656827238262, 0.09910655176275118, 0.0991065349406628, 0.0991065178061924, 0.09910650035941493, 0.09910648260040522, 0.09910646452923788, 0.09910644614598818, 0.09910642745073073, 0.09910640844354013, 0.09910638912449121, 0.09910636949365903, 0.09910634955111808, 0.09910632929694319, 0.09910630873120863, 0.0991062878539899, 0.09910626666536104, 0.09910624516539679, 0.09910622335417185, 0.09910620123176106, 0.0991061787982388, 0.09910615605367956, 0.09910613299815796, 0.0991061096317487, 0.09910608595452619, 0.09910606196656468, 0.09910603766793913, 0.09910601305872369, 0.09910598813899296, 0.09910596290882123, 0.09910593736828321, 0.09910591151745296, 0.09910588535640508, 0.09910585888521384, 0.09910583210395363, 0.09910580501269872, 0.09910577761152328, 0.09910574990050192, 0.09910572187970901, 0.09910569354921817, 0.09910566490910422, 0.09910563595944144, 0.09910560670030344, 0.09910557713176504, 0.09910554725389997, 0.09910551706678239, 0.09910548657048668, 0.099105455765087]\n",
      "0.09910699434363857\n"
     ]
    }
   ],
   "source": [
    "print(X_scores)\n",
    "max_score = np.max(X_scores)\n",
    "print(max_score) # best R^2"
   ]
  },
  {
   "cell_type": "code",
   "execution_count": 48,
   "id": "8e86be0a-bdb5-47e1-a94c-e7573b9f7fec",
   "metadata": {},
   "outputs": [
    {
     "name": "stdout",
     "output_type": "stream",
     "text": [
      "The best alpha value is: 0.0\n"
     ]
    }
   ],
   "source": [
    "ridge_dict = dict(zip(X_scores, a_range))\n",
    "print(f\"The best alpha value is: {ridge_dict[max_score]}\")"
   ]
  },
  {
   "cell_type": "code",
   "execution_count": 49,
   "id": "89eb5c9d-6e25-4fde-b8f8-bf4d03fac271",
   "metadata": {},
   "outputs": [],
   "source": [
    "#Again we see that Ridge regression regularization is not necessary"
   ]
  },
  {
   "cell_type": "code",
   "execution_count": null,
   "id": "0c6423d6-175f-4244-8bbb-29fa20cefe51",
   "metadata": {},
   "outputs": [],
   "source": []
  },
  {
   "cell_type": "code",
   "execution_count": 50,
   "id": "50fbba67-76b9-4f3b-b9bf-50ed29439395",
   "metadata": {},
   "outputs": [],
   "source": [
    "alpha_0_score = []"
   ]
  },
  {
   "cell_type": "code",
   "execution_count": 51,
   "id": "057f4441-8554-4455-a465-5a8d5e526e0d",
   "metadata": {},
   "outputs": [],
   "source": [
    "rid_reg_0 = Ridge(alpha = 10)\n",
    "rid_reg_0.fit(X_one_variable_reshaped, y)\n",
    "alpha_0_score.append(rid_reg_0.score(X_one_variable_reshaped, y))"
   ]
  },
  {
   "cell_type": "code",
   "execution_count": 52,
   "id": "80782fec-7446-40fb-be2e-a54c48dd9736",
   "metadata": {},
   "outputs": [
    {
     "data": {
      "text/plain": [
       "[0.09910693241067603]"
      ]
     },
     "execution_count": 52,
     "metadata": {},
     "output_type": "execute_result"
    }
   ],
   "source": [
    "alpha_0_score"
   ]
  },
  {
   "cell_type": "code",
   "execution_count": 53,
   "id": "02fc4987-3673-4036-bbc8-18f274d41d85",
   "metadata": {},
   "outputs": [
    {
     "data": {
      "text/plain": [
       "array([161614.63734653])"
      ]
     },
     "execution_count": 53,
     "metadata": {},
     "output_type": "execute_result"
    }
   ],
   "source": [
    "rid_reg_0.coef_"
   ]
  },
  {
   "cell_type": "code",
   "execution_count": 54,
   "id": "1c74149c-cc97-443e-a858-f0d5b2a7172c",
   "metadata": {},
   "outputs": [
    {
     "data": {
      "text/plain": [
       "-9126754.899931978"
      ]
     },
     "execution_count": 54,
     "metadata": {},
     "output_type": "execute_result"
    }
   ],
   "source": [
    "rid_reg_0.intercept_"
   ]
  },
  {
   "cell_type": "code",
   "execution_count": 55,
   "id": "e19c2bdb-d73b-41b0-b996-f7eef0c6d587",
   "metadata": {},
   "outputs": [],
   "source": [
    "# y = -9126754.90 + (161614.64 * xi)"
   ]
  },
  {
   "cell_type": "code",
   "execution_count": 56,
   "id": "e32e72df-62c9-4588-ae07-e1c8b3192e94",
   "metadata": {},
   "outputs": [],
   "source": [
    "# SSE = (OLS sum squared errors) + (Sum of coefficients squared)"
   ]
  },
  {
   "cell_type": "code",
   "execution_count": 57,
   "id": "f8ffa7d1-0f11-4184-82b0-eafcca80ddeb",
   "metadata": {},
   "outputs": [],
   "source": [
    "golf3 = golf.sort_values('gir', ascending=True)\n",
    "# X_sorted = golf['gir'].sort()\n",
    "# golf3"
   ]
  },
  {
   "cell_type": "code",
   "execution_count": 58,
   "id": "675ccdb3-b442-4933-aaeb-448e8f29a78a",
   "metadata": {},
   "outputs": [],
   "source": [
    "y_values = []\n",
    "for i in X_one_variable:\n",
    "    y_values.append(rid_reg_0.predict(np.array(i).reshape(1, -1)))"
   ]
  },
  {
   "cell_type": "code",
   "execution_count": 59,
   "id": "ed39fa97-9cdf-42a0-a302-c3cfd549b2aa",
   "metadata": {},
   "outputs": [
    {
     "data": {
      "text/plain": [
       "[array([2753537.09141168]),\n",
       " array([1898595.65984852]),\n",
       " array([1971322.24665446]),\n",
       " array([1992332.14950951]),\n",
       " array([1720819.55876733]),\n",
       " array([1300621.50166634]),\n",
       " array([2362429.66903307]),\n",
       " array([1998796.73500337]),\n",
       " array([1987483.71038911])]"
      ]
     },
     "execution_count": 59,
     "metadata": {},
     "output_type": "execute_result"
    }
   ],
   "source": [
    "y_values[0:9]\n"
   ]
  },
  {
   "cell_type": "code",
   "execution_count": 60,
   "id": "97d72cc4-035b-4666-bf4a-e23c8fab4dbe",
   "metadata": {},
   "outputs": [
    {
     "data": {
      "text/plain": [
       "[<matplotlib.lines.Line2D at 0x7f8a66a6aa90>]"
      ]
     },
     "execution_count": 60,
     "metadata": {},
     "output_type": "execute_result"
    },
    {
     "data": {
      "image/png": "[encoded data removed]",
      "text/plain": [
       "<Figure size 640x480 with 1 Axes>"
      ]
     },
     "metadata": {},
     "output_type": "display_data"
    }
   ],
   "source": [
    "plt.scatter(X_one_variable, y)\n",
    "yfit = [a + b * xi for xi in X_one_variable]\n",
    "# plt.plot(X_one_variable, yfit, color = 'orange')\n",
    "# plt.plot(X_one_variable, y_values, color = 'purple')\n",
    "plt.plot(X_one_variable, y_values, color='orange',\n",
    "     linewidth=3, markersize=1)"
   ]
  },
  {
   "cell_type": "code",
   "execution_count": null,
   "id": "8f8bab12-fa29-4a6c-a7a9-78cb03609490",
   "metadata": {},
   "outputs": [],
   "source": []
  },
  {
   "cell_type": "code",
   "execution_count": 61,
   "id": "bb110db4-1957-4b96-9d92-16e2cf788011",
   "metadata": {},
   "outputs": [],
   "source": [
    "# Lets look to see if average putts has any possible relationship with earnings"
   ]
  },
  {
   "cell_type": "code",
   "execution_count": 62,
   "id": "0a43c87e-5621-470e-a4ef-f477b9d6e4f8",
   "metadata": {},
   "outputs": [],
   "source": [
    "new_X = golf[\"AVG_Putts\"]"
   ]
  },
  {
   "cell_type": "code",
   "execution_count": 63,
   "id": "c3d90d06-727a-47df-98c3-40c1c67dfb7f",
   "metadata": {},
   "outputs": [
    {
     "data": {
      "text/plain": [
       "<matplotlib.collections.PathCollection at 0x7f8a6695cad0>"
      ]
     },
     "execution_count": 63,
     "metadata": {},
     "output_type": "execute_result"
    },
    {
     "data": {
      "image/png": "[encoded data removed]",
      "text/plain": [
       "<Figure size 640x480 with 1 Axes>"
      ]
     },
     "metadata": {},
     "output_type": "display_data"
    }
   ],
   "source": [
    "plt.scatter(new_X, y)"
   ]
  },
  {
   "cell_type": "code",
   "execution_count": 64,
   "id": "0c33680d-6efa-41c5-be7a-a448f812e081",
   "metadata": {},
   "outputs": [
    {
     "name": "stdout",
     "output_type": "stream",
     "text": [
      "best fit line:\n",
      "y = 21875751.77 + -699186.89x\n"
     ]
    },
    {
     "data": {
      "text/plain": [
       "[<matplotlib.lines.Line2D at 0x7f8a669b7a10>]"
      ]
     },
     "execution_count": 64,
     "metadata": {},
     "output_type": "execute_result"
    },
    {
     "data": {
      "image/png": "[encoded data removed]",
      "text/plain": [
       "<Figure size 640x480 with 1 Axes>"
      ]
     },
     "metadata": {},
     "output_type": "display_data"
    }
   ],
   "source": [
    "a2, b2 = best_fit(new_X, y)\n",
    "\n",
    "plt.scatter(new_X, y)\n",
    "yfit2 = [a2 + b2 * xi for xi in new_X]\n",
    "plt.plot(new_X, yfit2, color = 'orange')"
   ]
  },
  {
   "cell_type": "code",
   "execution_count": 65,
   "id": "adf3b646-881a-4433-9c78-235836f858fa",
   "metadata": {},
   "outputs": [],
   "source": [
    "# As we would expect, the greater putts a player has, the less the earnings might be. Although we can see\n",
    "# some correlation, it is not strong."
   ]
  },
  {
   "cell_type": "code",
   "execution_count": null,
   "id": "7db7b336-66eb-4990-a77e-390433737a10",
   "metadata": {},
   "outputs": [],
   "source": []
  },
  {
   "cell_type": "code",
   "execution_count": 66,
   "id": "6685891d-fe62-4559-b239-904cc1b32dbb",
   "metadata": {},
   "outputs": [],
   "source": [
    "# Now we try to see if strokes gained approach has any correlation on earnings. Strokes gained approach\n",
    "# shows the overall approach shot performance for each player. It focuses on measuring how far out\n",
    "# the player was from the hole, how close the player hit the ball to, and ball lie type. It converts this to \n",
    "# one standard unit (strokes gained) to be compared to other aspects of the players game."
   ]
  },
  {
   "cell_type": "code",
   "execution_count": 67,
   "id": "1ff9db0b-7b8a-487a-be99-0393fecc2afd",
   "metadata": {},
   "outputs": [],
   "source": [
    "X_SG_APR = golf[\"SG:APR\"]"
   ]
  },
  {
   "cell_type": "code",
   "execution_count": 68,
   "id": "3443bbc0-7c3d-4605-bb2b-9ff614792283",
   "metadata": {},
   "outputs": [
    {
     "data": {
      "text/plain": [
       "<matplotlib.collections.PathCollection at 0x7f8a6685dd10>"
      ]
     },
     "execution_count": 68,
     "metadata": {},
     "output_type": "execute_result"
    },
    {
     "data": {
      "image/png": "[encoded data removed]",
      "text/plain": [
       "<Figure size 640x480 with 1 Axes>"
      ]
     },
     "metadata": {},
     "output_type": "display_data"
    }
   ],
   "source": [
    "plt.scatter(X_SG_APR, y)"
   ]
  },
  {
   "cell_type": "code",
   "execution_count": 69,
   "id": "34f1a789-98dc-4078-89c5-6e1cb03d7ba4",
   "metadata": {},
   "outputs": [
    {
     "name": "stdout",
     "output_type": "stream",
     "text": [
      "best fit line:\n",
      "y = 1362395.02 + 1887841.29x\n"
     ]
    },
    {
     "data": {
      "text/plain": [
       "[<matplotlib.lines.Line2D at 0x7f8a66895a90>]"
      ]
     },
     "execution_count": 69,
     "metadata": {},
     "output_type": "execute_result"
    },
    {
     "data": {
      "image/png": "[encoded data removed]",
      "text/plain": [
       "<Figure size 640x480 with 1 Axes>"
      ]
     },
     "metadata": {},
     "output_type": "display_data"
    }
   ],
   "source": [
    "a3, b3 = best_fit(X_SG_APR, y)\n",
    "\n",
    "import matplotlib.pyplot as plt\n",
    "plt.scatter(X_SG_APR, y)\n",
    "yfit3 = [a3 + b3 * xi for xi in X_SG_APR]\n",
    "plt.plot(X_SG_APR, yfit3, color = 'orange')"
   ]
  },
  {
   "cell_type": "code",
   "execution_count": 70,
   "id": "1c9c7096-101b-4501-b16c-c216dc094391",
   "metadata": {},
   "outputs": [],
   "source": [
    "a_range = np.linspace(0,0.005,100)\n",
    "\n",
    "\n",
    "X_SG_APR_array = np.array(X_SG_APR).reshape(-1, 1)\n",
    "\n",
    "X_scores_APR = []\n",
    "\n",
    "for a in a_range:\n",
    "    APR_rid_reg = Ridge(alpha=a)\n",
    "    APR_rid_reg.fit(X_SG_APR_array, y)\n",
    "    X_scores_APR.append(APR_rid_reg.score(X_SG_APR_array, y))\n",
    "    "
   ]
  },
  {
   "cell_type": "code",
   "execution_count": 71,
   "id": "d8e10c6b-2809-4b56-8d2b-4ea1ac8db348",
   "metadata": {},
   "outputs": [
    {
     "name": "stdout",
     "output_type": "stream",
     "text": [
      "0.2599641442431505\n"
     ]
    }
   ],
   "source": [
    "# print(X_scores_APR)\n",
    "ridge_max_score_APR = np.max(X_scores_APR)\n",
    "print(ridge_max_score_APR)"
   ]
  },
  {
   "cell_type": "code",
   "execution_count": 72,
   "id": "1636b48e-fd46-4491-b213-891c6690f4fa",
   "metadata": {},
   "outputs": [
    {
     "data": {
      "text/plain": [
       "0.0"
      ]
     },
     "execution_count": 72,
     "metadata": {},
     "output_type": "execute_result"
    }
   ],
   "source": [
    "ridge_dict = dict(zip(X_scores_APR, a_range))\n",
    "ridge_dict[ridge_max_score_APR]"
   ]
  },
  {
   "cell_type": "code",
   "execution_count": 73,
   "id": "df058b07-2944-4f42-9241-f3b0c2550f2d",
   "metadata": {},
   "outputs": [],
   "source": [
    "# Yet again, regularization is not needed here"
   ]
  }
 ],
 "metadata": {
  "kernelspec": {
   "display_name": "Python 3 (ipykernel)",
   "language": "python",
   "name": "python3"
  },
  "language_info": {
   "codemirror_mode": {
    "name": "ipython",
    "version": 3
   },
   "file_extension": ".py",
   "mimetype": "text/x-python",
   "name": "python",
   "nbconvert_exporter": "python",
   "pygments_lexer": "ipython3",
   "version": "3.11.6"
  }
 },
 "nbformat": 4,
 "nbformat_minor": 5
}
